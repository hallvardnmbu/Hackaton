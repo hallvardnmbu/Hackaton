{
 "cells": [
  {
   "cell_type": "code",
   "execution_count": 1,
   "id": "initial_id",
   "metadata": {
    "collapsed": true,
    "ExecuteTime": {
     "end_time": "2023-09-27T16:23:54.961875Z",
     "start_time": "2023-09-27T16:23:54.497771Z"
    }
   },
   "outputs": [],
   "source": [
    "from weather import WeatherData\n",
    "from cleaning import CombineData"
   ]
  },
  {
   "cell_type": "code",
   "execution_count": 2,
   "outputs": [],
   "source": [
    "FROST_ID = open('./secrets/frost_id','r').read()\n",
    "URL = 'https://frost.met.no/observations/v0.jsonld'\n",
    "\n",
    "STATIONS = [\"SN50480\", \"SN50539\", \"SN50540\", \"SN51530\", \"SN53160\"]\n",
    "ELEMENTS = \"air_temperature, wind_speed, sum(precipitation_amount P1D)\"\n",
    "TIME = \"2016-01-01/2023-09-27\"\n",
    "\n",
    "SAVE_TO_WEATHER = './data/weather_data.csv'\n",
    "\n",
    "SPOT_PATH = \"./data/spot_price.csv\"\n",
    "WEATHER_PATH = \"./data/weather_data.csv\"\n",
    "\n",
    "SAVE_TO_COMBINED = \"./data/combined_data.csv\""
   ],
   "metadata": {
    "collapsed": false,
    "ExecuteTime": {
     "end_time": "2023-09-27T16:23:54.964596Z",
     "start_time": "2023-09-27T16:23:54.963182Z"
    }
   },
   "id": "2e7639046979a7cf"
  },
  {
   "cell_type": "code",
   "execution_count": 3,
   "outputs": [],
   "source": [
    "weather = WeatherData(STATIONS, ELEMENTS, TIME, FROST_ID, URL)\n",
    "weather.clean()\n",
    "\n",
    "weather.save(SAVE_TO_WEATHER)"
   ],
   "metadata": {
    "collapsed": false,
    "ExecuteTime": {
     "end_time": "2023-09-27T16:25:59.719554Z",
     "start_time": "2023-09-27T16:23:54.965976Z"
    }
   },
   "id": "ea14cc888166dcc7"
  },
  {
   "cell_type": "code",
   "execution_count": 4,
   "outputs": [],
   "source": [
    "combine = CombineData(SPOT_PATH, WEATHER_PATH)\n",
    "\n",
    "combine.save(SAVE_TO_COMBINED)"
   ],
   "metadata": {
    "collapsed": false,
    "ExecuteTime": {
     "end_time": "2023-09-27T16:26:02.269797Z",
     "start_time": "2023-09-27T16:25:59.718243Z"
    }
   },
   "id": "fb5b1403e1a6ddfd"
  }
 ],
 "metadata": {
  "kernelspec": {
   "display_name": "Python 3",
   "language": "python",
   "name": "python3"
  },
  "language_info": {
   "codemirror_mode": {
    "name": "ipython",
    "version": 2
   },
   "file_extension": ".py",
   "mimetype": "text/x-python",
   "name": "python",
   "nbconvert_exporter": "python",
   "pygments_lexer": "ipython2",
   "version": "2.7.6"
  }
 },
 "nbformat": 4,
 "nbformat_minor": 5
}
